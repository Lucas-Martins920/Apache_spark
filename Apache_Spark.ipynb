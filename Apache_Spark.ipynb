{
  "nbformat": 4,
  "nbformat_minor": 0,
  "metadata": {
    "colab": {
      "provenance": [],
      "authorship_tag": "ABX9TyMaTGUja3Jcu4hbEVSr9ueE",
      "include_colab_link": true
    },
    "kernelspec": {
      "name": "python3",
      "display_name": "Python 3"
    },
    "language_info": {
      "name": "python"
    }
  },
  "cells": [
    {
      "cell_type": "markdown",
      "metadata": {
        "id": "view-in-github",
        "colab_type": "text"
      },
      "source": [
        "<a href=\"https://colab.research.google.com/github/Lucas-Martins920/Apache_spark/blob/main/Apache_Spark.ipynb\" target=\"_parent\"><img src=\"https://colab.research.google.com/assets/colab-badge.svg\" alt=\"Open In Colab\"/></a>"
      ]
    },
    {
      "cell_type": "code",
      "execution_count": null,
      "metadata": {
        "colab": {
          "base_uri": "https://localhost:8080/"
        },
        "id": "SEYP7ogKXVV_",
        "outputId": "2d71957f-ec0b-4b64-8300-9409b80ba4c3"
      },
      "outputs": [
        {
          "output_type": "stream",
          "name": "stdout",
          "text": [
            "<pyspark.sql.session.SparkSession object at 0x7e64ade55cd0>\n"
          ]
        }
      ],
      "source": [
        "from pyspark.sql import SparkSession\n",
        "spark = SparkSession.builder \\\n",
        "    .master('local[*]') \\\n",
        "    .appName('Iniciando com Spark') \\\n",
        "    .config('spark.ui.port', '4040') \\\n",
        "    .config('spark.sql.autoBroadcastJoinThreshold', -1) \\\n",
        "    .getOrCreate()\n",
        "print(spark)"
      ]
    },
    {
      "cell_type": "code",
      "source": [
        "from pyspark.sql.functions import lit, col\n",
        "\n",
        "#Lê o csv e atribui a variavel df\n",
        "\n",
        "df = spark.read \\\n",
        "      .option(\"header\", \"true\") \\\n",
        "      .option(\"inferSchema\", \"true\") \\\n",
        "      .csv(\"/campeonato-brasileiro-full.csv\")\n",
        "\n",
        "# Filtra do dataframe pela coluna mandante\n",
        "\n",
        "\n",
        "df = df.filter(col(\"vencedor\") == \"Vasco\")\n",
        "df = df.filter(col(\"mandante\") == \"Flamengo\")\n",
        "\n",
        "# mostra o dataframe filtrado e quantidade de linhas\n",
        "\n",
        "print(df.count())\n",
        "df.show()"
      ],
      "metadata": {
        "colab": {
          "base_uri": "https://localhost:8080/"
        },
        "collapsed": true,
        "id": "aops8mJkX_Wk",
        "outputId": "0347ca9b-740c-4b2f-dd28-17fceb8bbfba"
      },
      "execution_count": null,
      "outputs": [
        {
          "output_type": "stream",
          "name": "stdout",
          "text": [
            "3\n",
            "+----+------+----------+-------------------+--------+---------+-----------------+------------------+--------------------+-------------------+--------+---------+---------------+----------------+---------------+----------------+\n",
            "|  ID|rodata|      data|               hora|mandante|visitante|formacao_mandante|formacao_visitante|    tecnico_mandante|  tecnico_visitante|vencedor|    arena|mandante_Placar|visitante_Placar|mandante_Estado|visitante_Estado|\n",
            "+----+------+----------+-------------------+--------+---------+-----------------+------------------+--------------------+-------------------+--------+---------+---------------+----------------+---------------+----------------+\n",
            "| 713|    14|10/07/2004|2025-07-23 16:00:00|Flamengo|    Vasco|             NULL|              NULL|                NULL|               NULL|   Vasco| Maracanã|              0|               1|             RJ|              RJ|\n",
            "|1686|    12|16/07/2006|2025-07-23 18:10:00|Flamengo|    Vasco|             NULL|              NULL|                NULL|               NULL|   Vasco| Maracanã|              0|               1|             RJ|              RJ|\n",
            "|5261|    28|27/09/2015|2025-07-23 16:00:00|Flamengo|    Vasco|          4-2-3-1|         4-1-2-1-2|O. de Oliveira Filho|J. de Amorim Campos|   Vasco| Maracanã|              1|               2|             RJ|              RJ|\n",
            "+----+------+----------+-------------------+--------+---------+-----------------+------------------+--------------------+-------------------+--------+---------+---------------+----------------+---------------+----------------+\n",
            "\n"
          ]
        }
      ]
    },
    {
      "cell_type": "code",
      "source": [
        "from pyspark.sql.functions import lit, col, to_date, day, month, year\n",
        "from datetime import date\n",
        "\n",
        "#Lê o csv e atribui a variavel df\n",
        "\n",
        "df = spark.read \\\n",
        "      .option(\"header\", \"true\") \\\n",
        "      .option(\"inferSchema\", \"true\") \\\n",
        "      .csv(\"/campeonato-brasileiro-full.csv\")\n",
        "\n",
        "# Transformar a coluna data para o tipo date\n",
        "\n",
        "df = df.withColumn(\"data\", to_date(col(\"data\"), \"dd/MM/yyyy\"))\n",
        "\n",
        "# Filtra do dataframe pela \"data\"\n",
        "\n",
        "df = df.filter(\n",
        "         (day(col(\"data\")) == 9) &\n",
        "         (month(col(\"data\")) == 1) &\n",
        "         (year(col(\"data\")) == 2006)\n",
        "     )\n",
        "\n",
        "# mostra o dataframe filtrado e quantidade de linhas\n",
        "\n",
        "print(df.count())\n",
        "df.show()\n",
        "df.printSchema"
      ],
      "metadata": {
        "colab": {
          "base_uri": "https://localhost:8080/",
          "height": 291
        },
        "id": "UvZfO482jrXL",
        "outputId": "8378f86a-bf06-4f97-fb1d-f763ceef7153"
      },
      "execution_count": null,
      "outputs": [
        {
          "output_type": "stream",
          "name": "stdout",
          "text": [
            "0\n",
            "+---+------+----+----+--------+---------+-----------------+------------------+----------------+-----------------+--------+-----+---------------+----------------+---------------+----------------+\n",
            "| ID|rodata|data|hora|mandante|visitante|formacao_mandante|formacao_visitante|tecnico_mandante|tecnico_visitante|vencedor|arena|mandante_Placar|visitante_Placar|mandante_Estado|visitante_Estado|\n",
            "+---+------+----+----+--------+---------+-----------------+------------------+----------------+-----------------+--------+-----+---------------+----------------+---------------+----------------+\n",
            "+---+------+----+----+--------+---------+-----------------+------------------+----------------+-----------------+--------+-----+---------------+----------------+---------------+----------------+\n",
            "\n"
          ]
        },
        {
          "output_type": "execute_result",
          "data": {
            "text/plain": [
              "<bound method DataFrame.printSchema of DataFrame[ID: int, rodata: int, data: date, hora: timestamp, mandante: string, visitante: string, formacao_mandante: string, formacao_visitante: string, tecnico_mandante: string, tecnico_visitante: string, vencedor: string, arena: string, mandante_Placar: int, visitante_Placar: int, mandante_Estado: string, visitante_Estado: string]>"
            ],
            "text/html": [
              "<div style=\"max-width:800px; border: 1px solid var(--colab-border-color);\"><style>\n",
              "      pre.function-repr-contents {\n",
              "        overflow-x: auto;\n",
              "        padding: 8px 12px;\n",
              "        max-height: 500px;\n",
              "      }\n",
              "\n",
              "      pre.function-repr-contents.function-repr-contents-collapsed {\n",
              "        cursor: pointer;\n",
              "        max-height: 100px;\n",
              "      }\n",
              "    </style>\n",
              "    <pre style=\"white-space: initial; background:\n",
              "         var(--colab-secondary-surface-color); padding: 8px 12px;\n",
              "         border-bottom: 1px solid var(--colab-border-color);\"><b>pyspark.sql.dataframe.DataFrame.printSchema</b><br/>def printSchema(level: Optional[int]=None) -&gt; None</pre><pre class=\"function-repr-contents function-repr-contents-collapsed\" style=\"\"><a class=\"filepath\" style=\"display:none\" href=\"#\">/usr/local/lib/python3.11/dist-packages/pyspark/sql/dataframe.py</a>Prints out the schema in the tree format.\n",
              "Optionally allows to specify how many levels to print if schema is nested.\n",
              "\n",
              ".. versionadded:: 1.3.0\n",
              "\n",
              ".. versionchanged:: 3.4.0\n",
              "    Supports Spark Connect.\n",
              "\n",
              "Parameters\n",
              "----------\n",
              "level : int, optional, default None\n",
              "    How many levels to print for nested schemas.\n",
              "\n",
              "    .. versionchanged:: 3.5.0\n",
              "        Added Level parameter.\n",
              "\n",
              "Examples\n",
              "--------\n",
              "&gt;&gt;&gt; df = spark.createDataFrame(\n",
              "...     [(14, &quot;Tom&quot;), (23, &quot;Alice&quot;), (16, &quot;Bob&quot;)], [&quot;age&quot;, &quot;name&quot;])\n",
              "&gt;&gt;&gt; df.printSchema()\n",
              "root\n",
              " |-- age: long (nullable = true)\n",
              " |-- name: string (nullable = true)\n",
              "\n",
              "&gt;&gt;&gt; df = spark.createDataFrame([(1, (2,2))], [&quot;a&quot;, &quot;b&quot;])\n",
              "&gt;&gt;&gt; df.printSchema(1)\n",
              "root\n",
              " |-- a: long (nullable = true)\n",
              " |-- b: struct (nullable = true)\n",
              "\n",
              "&gt;&gt;&gt; df.printSchema(2)\n",
              "root\n",
              " |-- a: long (nullable = true)\n",
              " |-- b: struct (nullable = true)\n",
              " |    |-- _1: long (nullable = true)\n",
              " |    |-- _2: long (nullable = true)</pre>\n",
              "      <script>\n",
              "      if (google.colab.kernel.accessAllowed && google.colab.files && google.colab.files.view) {\n",
              "        for (const element of document.querySelectorAll('.filepath')) {\n",
              "          element.style.display = 'block'\n",
              "          element.onclick = (event) => {\n",
              "            event.preventDefault();\n",
              "            event.stopPropagation();\n",
              "            google.colab.files.view(element.textContent, 581);\n",
              "          };\n",
              "        }\n",
              "      }\n",
              "      for (const element of document.querySelectorAll('.function-repr-contents')) {\n",
              "        element.onclick = (event) => {\n",
              "          event.preventDefault();\n",
              "          event.stopPropagation();\n",
              "          element.classList.toggle('function-repr-contents-collapsed');\n",
              "        };\n",
              "      }\n",
              "      </script>\n",
              "      </div>"
            ]
          },
          "metadata": {},
          "execution_count": 72
        }
      ]
    },
    {
      "cell_type": "code",
      "source": [
        "# 1 - todos os jogos que o Gremio foi mandante e venceu em 2003\n",
        "\n",
        "from pyspark.sql.functions import lit, col, to_date, year\n",
        "\n",
        "#Lê o csv e atribui a variavel df\n",
        "\n",
        "df = spark.read \\\n",
        "      .option(\"header\", \"true\") \\\n",
        "      .option(\"inferSchema\", \"true\") \\\n",
        "      .csv(\"/campeonato-brasileiro-full.csv\")\n",
        "\n",
        "# Transformar a coluna data para o tipo date\n",
        "df = df.withColumn(\"data\", to_date(col(\"data\"), \"dd/MM/yyyy\"))\n",
        "\n",
        "# Filtra do dataframe pela coluna mandante\n",
        "\n",
        "df = df.filter(col(\"mandante\") == \"Gremio\")\n",
        "df = df.filter(col(\"vencedor\") == \"Gremio\")\n",
        "df = df.filter(year(col(\"data\")) == 2003)\n",
        "\n",
        "# mostra o dataframe filtrado e quantidade de linhas\n",
        "\n",
        "print(df.count())\n",
        "df.show()"
      ],
      "metadata": {
        "colab": {
          "base_uri": "https://localhost:8080/"
        },
        "collapsed": true,
        "id": "0-NYGKHGZQt0",
        "outputId": "090cbb5b-a992-4597-b929-1d128ddab342"
      },
      "execution_count": null,
      "outputs": [
        {
          "output_type": "stream",
          "name": "stdout",
          "text": [
            "10\n",
            "+---+------+----------+-------------------+--------+-----------+-----------------+------------------+----------------+-----------------+--------+---------+---------------+----------------+---------------+----------------+\n",
            "| ID|rodata|      data|               hora|mandante|  visitante|formacao_mandante|formacao_visitante|tecnico_mandante|tecnico_visitante|vencedor|    arena|mandante_Placar|visitante_Placar|mandante_Estado|visitante_Estado|\n",
            "+---+------+----------+-------------------+--------+-----------+-----------------+------------------+----------------+-----------------+--------+---------+---------------+----------------+---------------+----------------+\n",
            "| 16|     2|2003-04-05|2025-07-24 18:00:00|  Gremio|    Guarani|             NULL|              NULL|            NULL|             NULL|  Gremio| Olímpico|              3|               1|             RS|              SP|\n",
            "| 27|     4|2003-04-16|2025-07-24 20:30:00|  Gremio|    Vitoria|             NULL|              NULL|            NULL|             NULL|  Gremio| Olímpico|              2|               1|             RS|              BA|\n",
            "| 96|     8|2003-05-11|2025-07-24 18:00:00|  Gremio|   Coritiba|             NULL|              NULL|            NULL|             NULL|  Gremio| Olímpico|              1|               0|             RS|              PR|\n",
            "|135|    12|2003-06-07|2025-07-24 16:00:00|  Gremio|  Fortaleza|             NULL|              NULL|            NULL|             NULL|  Gremio| Olímpico|              3|               1|             RS|              CE|\n",
            "|185|    16|2003-07-06|2025-07-24 16:00:00|  Gremio|   Flamengo|             NULL|              NULL|            NULL|             NULL|  Gremio| Olímpico|              2|               0|             RS|              RJ|\n",
            "|266|    23|2003-08-02|2025-07-24 16:00:00|  Gremio|     Santos|             NULL|              NULL|            NULL|             NULL|  Gremio| Olímpico|              2|               0|             RS|              SP|\n",
            "|400|    34|2003-10-04|2025-07-24 18:00:00|  Gremio|Figueirense|             NULL|              NULL|            NULL|             NULL|  Gremio| Olímpico|              3|               1|             RS|              SC|\n",
            "|494|    42|2003-11-08|2025-07-24 18:00:00|  Gremio|   Paysandu|             NULL|              NULL|            NULL|             NULL|  Gremio| Olímpico|              2|               0|             RS|              PA|\n",
            "|508|    43|2003-11-22|2025-07-24 18:00:00|  Gremio|      Vasco|             NULL|              NULL|            NULL|             NULL|  Gremio| Olímpico|              4|               3|             RS|              RJ|\n",
            "|546|    46|2003-12-14|2025-07-24 16:00:00|  Gremio|Corinthians|             NULL|              NULL|            NULL|             NULL|  Gremio| Olímpico|              3|               0|             RS|              SP|\n",
            "+---+------+----------+-------------------+--------+-----------+-----------------+------------------+----------------+-----------------+--------+---------+---------------+----------------+---------------+----------------+\n",
            "\n"
          ]
        }
      ]
    },
    {
      "cell_type": "code",
      "source": [
        "# 2 - Filtrar todos os jogos em que o mandante venceu.\n",
        "\n",
        "# seleciona as colunas\n",
        "df_mandante_vencedor = df_csv_bruto \\\n",
        "    .select('rodada', 'data', 'mandante', 'visitante', 'mandante_Placar', 'visitante_Placar', 'vencedor')\n",
        "\n",
        "# aplica o filtro para trazer somente os mandantes que venceram\n",
        "df_mandante_vencedor = df_mandante_vencedor \\\n",
        "    .filter(col('mandante') == col('vencedor'))\n",
        "\n",
        "# ordena pela data\n",
        "df_mandante_vencedor = df_mandante_vencedor \\\n",
        "    .orderBy('data')\n",
        "\n",
        "print(df_mandante_vencedor.count())\n",
        "df_mandante_vencedor.show()"
      ],
      "metadata": {
        "colab": {
          "base_uri": "https://localhost:8080/"
        },
        "id": "6BRXqGaFZUuD",
        "outputId": "ddb9d207-60e9-4166-cb7a-76bb97b93015"
      },
      "execution_count": null,
      "outputs": [
        {
          "output_type": "stream",
          "name": "stdout",
          "text": [
            "4359\n",
            "+------+----------+-------------+------------+---------------+----------------+-------------+\n",
            "|rodada|      data|     mandante|   visitante|mandante_Placar|visitante_Placar|     vencedor|\n",
            "+------+----------+-------------+------------+---------------+----------------+-------------+\n",
            "|     1|2003-03-29|      Guarani|       Vasco|              4|               2|      Guarani|\n",
            "|     1|2003-03-29| Athletico-PR|      Gremio|              2|               0| Athletico-PR|\n",
            "|     1|2003-03-30|     Criciuma|  Fluminense|              2|               0|     Criciuma|\n",
            "|     2|2003-04-05|       Gremio|     Guarani|              3|               1|       Gremio|\n",
            "|     2|2003-04-06|  Ponte Preta|   Juventude|              1|               0|  Ponte Preta|\n",
            "|     2|2003-04-06|       Parana|Athletico-PR|              3|               0|       Parana|\n",
            "|     2|2003-04-06|  Sao Caetano|    Criciuma|              3|               2|  Sao Caetano|\n",
            "|     2|2003-04-06|        Vasco|       Goias|              6|               4|        Vasco|\n",
            "|     4|2003-04-09|     Paysandu|      Santos|              2|               1|     Paysandu|\n",
            "|     3|2003-04-12|Internacional|       Bahia|              2|               0|Internacional|\n",
            "|     3|2003-04-12|       Santos| Figueirense|              2|               0|       Santos|\n",
            "|     3|2003-04-12|  Corinthians|    Paysandu|              6|               1|  Corinthians|\n",
            "|     3|2003-04-13|      Vitoria|       Vasco|              2|               1|      Vitoria|\n",
            "|     3|2003-04-13|    Juventude|    Coritiba|              2|               1|    Juventude|\n",
            "|     3|2003-04-13|      Guarani|      Parana|              2|               0|      Guarani|\n",
            "|     3|2003-04-13|     Cruzeiro| Ponte Preta|              3|               0|     Cruzeiro|\n",
            "|     3|2003-04-13|     Flamengo|  Fluminense|              4|               1|     Flamengo|\n",
            "|     4|2003-04-16|        Bahia|   Juventude|              3|               1|        Bahia|\n",
            "|     4|2003-04-16|       Gremio|     Vitoria|              2|               1|       Gremio|\n",
            "|     4|2003-04-16|  Atletico-MG|     Guarani|              3|               2|  Atletico-MG|\n",
            "+------+----------+-------------+------------+---------------+----------------+-------------+\n",
            "only showing top 20 rows\n",
            "\n"
          ]
        }
      ]
    },
    {
      "cell_type": "code",
      "source": [
        "# 3 - Todos os jogos em que o visitante venceu\n",
        "\n",
        "# seleciona as colunas\n",
        "df_visitante_vencedor = df_csv_bruto \\\n",
        "    .select('rodada', 'data', 'mandante', 'visitante', 'mandante_Placar', 'visitante_Placar', 'vencedor')\n",
        "\n",
        "# aplica o filtro para trazer somente os visitantes que venceram\n",
        "df_visitante_vencedor = df_visitante_vencedor \\\n",
        "    .filter(col('visitante') == col('vencedor'))\n",
        "\n",
        "# ordena pela data\n",
        "df_visitante_vencedor = df_visitante_vencedor \\\n",
        "    .orderBy('data')\n",
        "\n",
        "print(df_visitante_vencedor.count())\n",
        "df_visitante_vencedor.show()\n"
      ],
      "metadata": {
        "colab": {
          "base_uri": "https://localhost:8080/"
        },
        "id": "Qp8YdvYFZXT8",
        "outputId": "3bd60bc4-711a-47df-a468-4b762175faad"
      },
      "execution_count": null,
      "outputs": [
        {
          "output_type": "stream",
          "name": "stdout",
          "text": [
            "2104\n",
            "+------+----------+------------+-------------+---------------+----------------+-------------+\n",
            "|rodada|      data|    mandante|    visitante|mandante_Placar|visitante_Placar|     vencedor|\n",
            "+------+----------+------------+-------------+---------------+----------------+-------------+\n",
            "|     1|2003-03-30| Corinthians|  Atletico-MG|              0|               3|  Atletico-MG|\n",
            "|     2|2003-04-05|    Coritiba|Internacional|              0|               1|Internacional|\n",
            "|     2|2003-04-06|       Bahia|     Flamengo|              1|               2|     Flamengo|\n",
            "|     2|2003-04-06|    Paysandu|      Vitoria|              1|               2|      Vitoria|\n",
            "|     2|2003-04-06|   Sao Paulo|     Cruzeiro|              2|               4|     Cruzeiro|\n",
            "|     3|2003-04-12|Athletico-PR|  Atletico-MG|              1|               2|  Atletico-MG|\n",
            "|     4|2003-04-16|    Coritiba|     Cruzeiro|              3|               4|     Cruzeiro|\n",
            "|     5|2003-04-19|       Bahia|  Atletico-MG|              2|               4|  Atletico-MG|\n",
            "|     5|2003-04-19|    Flamengo|       Santos|              0|               2|       Santos|\n",
            "|     6|2003-04-26| Atletico-MG|     Coritiba|              1|               2|     Coritiba|\n",
            "|     6|2003-04-26|     Vitoria|Internacional|              0|               3|Internacional|\n",
            "|     6|2003-04-27|      Gremio|   Fluminense|              0|               1|   Fluminense|\n",
            "|     7|2003-05-04|   Fortaleza|  Corinthians|              1|               2|  Corinthians|\n",
            "|     7|2003-05-04|    Criciuma|       Santos|              1|               3|       Santos|\n",
            "|     8|2003-05-10|      Santos|     Cruzeiro|              0|               2|     Cruzeiro|\n",
            "|    10|2003-05-25|    Paysandu|     Coritiba|              1|               3|     Coritiba|\n",
            "|    10|2003-05-25|       Goias|     Criciuma|              0|               2|     Criciuma|\n",
            "|    10|2003-05-25|      Gremio|    Sao Paulo|              1|               2|    Sao Paulo|\n",
            "|    12|2003-06-07|     Guarani|       Santos|              1|               2|       Santos|\n",
            "|    12|2003-06-08|       Goias|     Coritiba|              1|               2|     Coritiba|\n",
            "+------+----------+------------+-------------+---------------+----------------+-------------+\n",
            "only showing top 20 rows\n",
            "\n"
          ]
        }
      ]
    },
    {
      "cell_type": "code",
      "source": [
        "# 4 - Todos os jogos que aconteceram em de 2012\n",
        "\n",
        "# seleciona as colunas\n",
        "df_jogos_em_2012 = df_csv_bruto \\\n",
        "    .select('rodada', 'data', 'mandante', 'visitante', 'mandante_Placar', 'visitante_Placar', 'vencedor')\n",
        "\n",
        "# aplica filtro para trazer os jogos apenas de 2012\n",
        "df_jogos_em_2012 = df_jogos_em_2012.filter(year(col('data')) == 2012)\n",
        "\n",
        "print(df_jogos_em_2012.count())\n",
        "df_jogos_em_2012.show()"
      ],
      "metadata": {
        "colab": {
          "base_uri": "https://localhost:8080/"
        },
        "id": "rUGYT3LeZYhM",
        "outputId": "686019e5-6dc9-4b5a-c5f1-69e8817726bb"
      },
      "execution_count": null,
      "outputs": [
        {
          "output_type": "stream",
          "name": "stdout",
          "text": [
            "380\n",
            "+------+----------+-------------+-------------+---------------+----------------+-------------+\n",
            "|rodada|      data|     mandante|    visitante|mandante_Placar|visitante_Placar|     vencedor|\n",
            "+------+----------+-------------+-------------+---------------+----------------+-------------+\n",
            "|     1|2012-05-19|    Palmeiras|   Portuguesa|              1|               1|            -|\n",
            "|     1|2012-05-19|        Sport|     Flamengo|              1|               1|            -|\n",
            "|     1|2012-05-19|  Figueirense|      Nautico|              2|               1|  Figueirense|\n",
            "|     1|2012-05-20|  Corinthians|   Fluminense|              0|               1|   Fluminense|\n",
            "|     1|2012-05-20|Internacional|     Coritiba|              2|               0|Internacional|\n",
            "|     1|2012-05-20|  Botafogo-RJ|    Sao Paulo|              4|               2|  Botafogo-RJ|\n",
            "|     1|2012-05-20|  Ponte Preta|  Atletico-MG|              0|               1|  Atletico-MG|\n",
            "|     1|2012-05-20|     Cruzeiro|  Atletico-GO|              0|               0|            -|\n",
            "|     1|2012-05-20|        Bahia|       Santos|              0|               0|            -|\n",
            "|     1|2012-05-20|        Vasco|       Gremio|              2|               1|        Vasco|\n",
            "|     2|2012-05-26|  Atletico-GO|  Ponte Preta|              1|               1|            -|\n",
            "|     2|2012-05-26|     Flamengo|Internacional|              3|               3|            -|\n",
            "|     2|2012-05-26|   Portuguesa|        Vasco|              0|               1|        Vasco|\n",
            "|     2|2012-05-26|      Nautico|     Cruzeiro|              0|               0|            -|\n",
            "|     2|2012-05-27|    Sao Paulo|        Bahia|              1|               0|    Sao Paulo|\n",
            "|     2|2012-05-27|  Atletico-MG|  Corinthians|              1|               0|  Atletico-MG|\n",
            "|     2|2012-05-27|     Coritiba|  Botafogo-RJ|              2|               3|  Botafogo-RJ|\n",
            "|     2|2012-05-27|       Santos|        Sport|              0|               0|            -|\n",
            "|     2|2012-05-27|       Gremio|    Palmeiras|              1|               0|       Gremio|\n",
            "|     2|2012-05-27|   Fluminense|  Figueirense|              2|               2|            -|\n",
            "+------+----------+-------------+-------------+---------------+----------------+-------------+\n",
            "only showing top 20 rows\n",
            "\n"
          ]
        }
      ]
    },
    {
      "cell_type": "code",
      "source": [
        "# 4 - em 2012 trazer todos os jogos que tem uma diferença de mais de 3 gols no placar\n",
        "from pyspark.sql.functions import abs\n",
        "\n",
        "df_jogos_em_2012_dif_3_gols = df_jogos_em_2012 \\\n",
        "    .filter(\n",
        "        abs(col(\"mandante_Placar\") - col(\"visitante_Placar\")) > 3\n",
        "    )\n",
        "\n",
        "print(df_jogos_em_2012_dif_3_gols.count())\n",
        "df_jogos_em_2012_dif_3_gols.show()\n",
        "\n"
      ],
      "metadata": {
        "colab": {
          "base_uri": "https://localhost:8080/"
        },
        "id": "F6u29hmm8j9a",
        "outputId": "997169e2-c10a-40a2-ba3f-9cbb91256744"
      },
      "execution_count": null,
      "outputs": [
        {
          "output_type": "stream",
          "name": "stdout",
          "text": [
            "11\n",
            "+------+----------+-----------+-----------+---------------+----------------+-----------+\n",
            "|rodada|      data|   mandante|  visitante|mandante_Placar|visitante_Placar|   vencedor|\n",
            "+------+----------+-----------+-----------+---------------+----------------+-----------+\n",
            "|     6|2012-06-23|Atletico-MG|    Nautico|              5|               1|Atletico-MG|\n",
            "|    10|2012-07-19| Fluminense|      Bahia|              4|               0| Fluminense|\n",
            "|    18|2012-08-19|   Coritiba|   Cruzeiro|              4|               0|   Coritiba|\n",
            "|    18|2012-08-19|     Gremio|Figueirense|              4|               0|     Gremio|\n",
            "|    20|2012-08-30|  Sao Paulo|Botafogo-RJ|              4|               0|  Sao Paulo|\n",
            "|    23|2012-09-09|      Vasco|      Bahia|              0|               4|      Bahia|\n",
            "|    28|2012-10-04| Portuguesa|      Sport|              5|               1| Portuguesa|\n",
            "|    28|2012-10-06|Atletico-MG|Figueirense|              6|               0|Atletico-MG|\n",
            "|    33|2012-10-27|Botafogo-RJ|Atletico-GO|              4|               0|Botafogo-RJ|\n",
            "|    34|2012-11-03|   Cruzeiro|     Santos|              0|               4|     Santos|\n",
            "|    35|2012-11-10|Corinthians|   Coritiba|              5|               1|Corinthians|\n",
            "+------+----------+-----------+-----------+---------------+----------------+-----------+\n",
            "\n"
          ]
        }
      ]
    },
    {
      "cell_type": "code",
      "source": [
        "# 5 - trazer os jogos mais recentes que o Flamengo ganhou do vasco\n"
      ],
      "metadata": {
        "id": "B112CKqLAFqi"
      },
      "execution_count": null,
      "outputs": []
    }
  ]
}